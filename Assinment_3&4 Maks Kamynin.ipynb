{
 "cells": [
  {
   "cell_type": "markdown",
   "metadata": {},
   "source": [
    "# Assignment 3"
   ]
  },
  {
   "cell_type": "markdown",
   "metadata": {},
   "source": [
    "**Please follow the instructions. Do not add new cell! Write your code in designated areas.**"
   ]
  },
  {
   "cell_type": "code",
   "execution_count": 307,
   "metadata": {},
   "outputs": [
    {
     "name": "stdout",
     "output_type": "stream",
     "text": [
      "Assignment 3 & 4: Solutions by Maks Kamynin\n",
      "Local Time: 2023-09-25 16:11:16\n",
      "Computer ID: LAPTOP-5LOCT0L4\n"
     ]
    }
   ],
   "source": [
    "import datetime\n",
    "import socket\n",
    "\n",
    "# Get local time\n",
    "local_time = datetime.datetime.now().strftime(\"%Y-%m-%d %H:%M:%S\")\n",
    "\n",
    "# Get computer ID or hostname\n",
    "computer_id = socket.gethostname()\n",
    "\n",
    "# Print output with local time and computer ID\n",
    "print('Assignment 3 & 4: Solutions by Maks Kamynin') # Please change your name here\n",
    "print('Local Time:', local_time)\n",
    "print('Computer ID:', computer_id)"
   ]
  },
  {
   "cell_type": "markdown",
   "metadata": {},
   "source": [
    "## NumPy"
   ]
  },
  {
   "cell_type": "markdown",
   "metadata": {},
   "source": [
    "1. Create a 2D numpy array of size 4x5 with random integers between 1 and 10. Find the maximum value of the entire array. \n"
   ]
  },
  {
   "cell_type": "code",
   "execution_count": 308,
   "metadata": {},
   "outputs": [
    {
     "name": "stdout",
     "output_type": "stream",
     "text": [
      "[[3 4 1 3 6]\n",
      " [5 6 2 9 1]\n",
      " [9 6 5 3 6]\n",
      " [6 7 3 2 8]]\n",
      "9\n"
     ]
    }
   ],
   "source": [
    "## Your code here down\n",
    "\n",
    "import numpy as np\n",
    "import pandas as pd \n",
    "import matplotlib.pyplot as plt\n",
    "\n",
    "arr = np.random.randint(1, 10, size = (4, 5))\n",
    "print(arr)\n",
    "print(np.max(arr))\n",
    "\n",
    "# print(mean)\n",
    "#print(std) and so on\n",
    "## Your code here up"
   ]
  },
  {
   "cell_type": "markdown",
   "metadata": {},
   "source": [
    "2. Create a 1D numpy array of size 20 with random floats between 0 and 1. Reshape the array into a 4x5 matrix. Compute the mean of each row."
   ]
  },
  {
   "cell_type": "code",
   "execution_count": 309,
   "metadata": {},
   "outputs": [
    {
     "name": "stdout",
     "output_type": "stream",
     "text": [
      "[0.5218288  0.5305881  0.42146456 0.35290895]\n"
     ]
    }
   ],
   "source": [
    "## Your code here down\n",
    "\n",
    "arr2 = np.random.uniform(0, 1, size = (1, 20))\n",
    "arr2_add = np.reshape(arr2, (4,5))\n",
    "print(arr2_add.mean(axis = 1))\n",
    "\n",
    "## Your code here up"
   ]
  },
  {
   "cell_type": "markdown",
   "metadata": {},
   "source": [
    "3. Create a 2D numpy array of size 5x5 with random integers between 1 and 100. Compute standard deviation of each column."
   ]
  },
  {
   "cell_type": "code",
   "execution_count": 310,
   "metadata": {},
   "outputs": [
    {
     "name": "stdout",
     "output_type": "stream",
     "text": [
      "[19.82927129 20.52900387 14.2407865  22.4        22.54772716]\n"
     ]
    }
   ],
   "source": [
    "## Your code here down\n",
    "\n",
    "arr3 = np.random.randint(1, 100, size = (5, 5))\n",
    "arr3_add = np.std(arr3, axis = 1)\n",
    "print(arr3_add)\n",
    "\n",
    "## Your code here up"
   ]
  },
  {
   "cell_type": "markdown",
   "metadata": {},
   "source": [
    "4. Create a 1D numpy array of size 15 with random floats between -10 and 10. Replace all negative values with their absolute values."
   ]
  },
  {
   "cell_type": "code",
   "execution_count": 311,
   "metadata": {},
   "outputs": [
    {
     "name": "stdout",
     "output_type": "stream",
     "text": [
      "[[9.05602453 3.59825387 1.29759407 1.41511471 1.29453265 0.18033702\n",
      "  4.2389293  6.41123361 4.48695674 6.08540515 5.33699653 1.10333706\n",
      "  2.27723037 7.57723627 2.49066164]]\n"
     ]
    }
   ],
   "source": [
    "## Your code here down\n",
    "\n",
    "arr4 = np.random.uniform(-10, 10, size = (1, 15))\n",
    "arr4_add = np.abs(arr6)\n",
    "print(arr4_add)\n",
    "\n",
    "## Your code here up"
   ]
  },
  {
   "cell_type": "markdown",
   "metadata": {},
   "source": [
    "5. Create a 2D numpy array of size 3x4 with random integers between 1 and 100. Calculate the sum of all elements in the array."
   ]
  },
  {
   "cell_type": "code",
   "execution_count": 312,
   "metadata": {},
   "outputs": [
    {
     "name": "stdout",
     "output_type": "stream",
     "text": [
      "714\n"
     ]
    }
   ],
   "source": [
    "## Your code here down\n",
    "\n",
    "arr5 = np.random.randint(1, 100, size = (3, 4))\n",
    "arr5_add = np.sum(arr5)\n",
    "print(arr5_add)\n",
    "\n",
    "## Your code here up"
   ]
  },
  {
   "cell_type": "markdown",
   "metadata": {},
   "source": [
    "7. Create a 2D numpy array of size 4x6 with random floats between 0 and 1. Normalize each column by subtracting the column mean and dividing by the column standard deviation."
   ]
  },
  {
   "cell_type": "code",
   "execution_count": 313,
   "metadata": {},
   "outputs": [
    {
     "name": "stdout",
     "output_type": "stream",
     "text": [
      "[[-0.68186472  0.07134095  1.34887894 -0.87693711 -0.58163859  0.15412701]\n",
      " [ 1.47637473  1.52277881 -0.86769316 -0.30516187  0.18570753  1.55204111]\n",
      " [-1.11828035 -1.24730773 -1.05048928 -0.51330067  1.53003696 -0.61653764]\n",
      " [ 0.32377035 -0.34681203  0.56930349  1.69539965 -1.1341059  -1.08963048]]\n"
     ]
    }
   ],
   "source": [
    "## Your code here down\n",
    "\n",
    "arr7 = np.random.uniform(0, 1, size = (4, 6))\n",
    "col_means = arr7.mean(axis = 0)\n",
    "col_stds = arr7.std(axis = 0)\n",
    "arr7_add = (arr7 - col_means) / col_stds\n",
    "print(arr7_add)\n",
    "\n",
    "## Your code here up"
   ]
  },
  {
   "cell_type": "markdown",
   "metadata": {},
   "source": [
    "8. Create a 2D numpy array of size 10x10 with random integers between 1 and 100. Replace all values greater than 50 with 1 and all other values with 0."
   ]
  },
  {
   "cell_type": "code",
   "execution_count": 314,
   "metadata": {},
   "outputs": [
    {
     "name": "stdout",
     "output_type": "stream",
     "text": [
      "[[0 0 0 1 1 1 1 0 1 1]\n",
      " [1 0 1 1 1 0 0 0 1 1]\n",
      " [0 1 1 0 1 0 1 1 0 1]\n",
      " [0 1 1 1 1 1 0 0 0 1]\n",
      " [1 0 1 1 1 0 1 1 0 0]\n",
      " [1 0 1 1 0 1 0 0 0 1]\n",
      " [0 1 0 1 1 1 1 1 1 1]\n",
      " [0 1 0 0 0 1 0 0 1 1]\n",
      " [1 1 1 1 0 1 0 0 1 0]\n",
      " [0 0 0 0 0 0 1 0 0 0]]\n"
     ]
    }
   ],
   "source": [
    "## Your code here down\n",
    "\n",
    "arr8 = np.random.randint(1, 100, size = (10, 10))\n",
    "arr8_add = np.where(arr8 > 50, 1, 0)\n",
    "print(arr8_add)\n",
    "\n",
    "## Your code here up"
   ]
  },
  {
   "cell_type": "markdown",
   "metadata": {},
   "source": [
    "9. Create a 1D numpy array of size 50 with random floats between 0 and 1. Find the number of elements greater than 0.5."
   ]
  },
  {
   "cell_type": "code",
   "execution_count": 315,
   "metadata": {},
   "outputs": [
    {
     "name": "stdout",
     "output_type": "stream",
     "text": [
      "29\n"
     ]
    }
   ],
   "source": [
    "## Your code here down\n",
    "\n",
    "arr9 = np.random.uniform(0, 1, size = (1, 50))\n",
    "arr9_add = np.count_nonzero(arr9 > 0.5)\n",
    "print(arr9_add)\n",
    "\n",
    "## Your code here up"
   ]
  },
  {
   "cell_type": "markdown",
   "metadata": {},
   "source": [
    "10. Create a 2D numpy array of size 5x5 with random floats between -1 and 1. Find the absolute difference between the maximum and minimum values in each row."
   ]
  },
  {
   "cell_type": "code",
   "execution_count": 316,
   "metadata": {},
   "outputs": [
    {
     "name": "stdout",
     "output_type": "stream",
     "text": [
      "[1.49540981 0.91636652 1.47906071 1.82630554 1.34715388]\n"
     ]
    }
   ],
   "source": [
    "## Your code here down\n",
    "\n",
    "arr10 = np.random.uniform(-1, 1, size = (5, 5))\n",
    "arr10_add = np.ptp(arr10, axis = 1)\n",
    "print(arr10_add)\n",
    "\n",
    "## Your code here up"
   ]
  },
  {
   "cell_type": "markdown",
   "metadata": {},
   "source": [
    "## Pandas"
   ]
  },
  {
   "cell_type": "markdown",
   "metadata": {},
   "source": [
    "Please refer the dataframe (farm data) we have created in the training. Please copy that cell and paste it below before starting this part. "
   ]
  },
  {
   "cell_type": "code",
   "execution_count": 317,
   "metadata": {},
   "outputs": [],
   "source": [
    "import random\n",
    "import pandas as pd\n",
    "\n",
    "# Define the range for longitude and latitude\n",
    "lon_range = (-105, -100)\n",
    "lat_range = (50, 52)\n",
    "\n",
    "# Define the list of soil types\n",
    "soil_types = ['black', 'gray', 'dark brown', 'brown', None]\n",
    "\n",
    "# Create an empty list to store the farms\n",
    "farms = []\n",
    "\n",
    "# Generate 40 farms\n",
    "for i in range(200):\n",
    "    farm = {\n",
    "        'farm_name': f'Farm {i+1}', # f is formated string\n",
    "        'farm_lon': round(random.uniform(lon_range[0], lon_range[1]), 2), # random lon with 2 decimal points\n",
    "        'farm_lat': round(random.uniform(lat_range[0], lat_range[1]), 2), # rantom lat with 2 decimal points\n",
    "        'temperature': round(random.uniform(18, 33), 1), #random temp with 1 decimal points\n",
    "        'precipitation': round(random.uniform(20, 90), 1), # random prec with 1 decimal points\n",
    "        'soil_type': random.choice(soil_types) # random soil types from above list\n",
    "    }\n",
    "    farms.append(farm)"
   ]
  },
  {
   "cell_type": "code",
   "execution_count": 318,
   "metadata": {
    "scrolled": true
   },
   "outputs": [
    {
     "name": "stdout",
     "output_type": "stream",
     "text": [
      "    farm_name  farm_lon  farm_lat  temperature  precipitation   soil_type\n",
      "0      Farm 1   -101.46     50.55         28.8           24.9        None\n",
      "1      Farm 2   -100.23     50.71         22.5           61.2        None\n",
      "2      Farm 3   -104.09     51.98         22.9           35.9       black\n",
      "3      Farm 4   -104.63     50.50         22.6           34.8  dark brown\n",
      "4      Farm 5   -102.25     50.10         22.4           39.7        None\n",
      "..        ...       ...       ...          ...            ...         ...\n",
      "195  Farm 196   -101.31     51.40         20.9           86.1       black\n",
      "196  Farm 197   -101.47     51.99         26.4           53.9       brown\n",
      "197  Farm 198   -104.75     51.34         32.9           89.9        gray\n",
      "198  Farm 199   -101.64     51.80         26.6           36.5        gray\n",
      "199  Farm 200   -102.58     50.20         27.0           33.0        gray\n",
      "\n",
      "[200 rows x 6 columns]\n"
     ]
    }
   ],
   "source": [
    "df = pd.DataFrame(farms) # your code here\n",
    "print(df)"
   ]
  },
  {
   "cell_type": "markdown",
   "metadata": {},
   "source": [
    "1. Select the rows where the temperature is above 20 degrees Celsius."
   ]
  },
  {
   "cell_type": "code",
   "execution_count": 319,
   "metadata": {
    "scrolled": true
   },
   "outputs": [
    {
     "name": "stdout",
     "output_type": "stream",
     "text": [
      "    farm_name  farm_lon  farm_lat  temperature  precipitation   soil_type\n",
      "0      Farm 1   -101.46     50.55         28.8           24.9        None\n",
      "1      Farm 2   -100.23     50.71         22.5           61.2        None\n",
      "2      Farm 3   -104.09     51.98         22.9           35.9       black\n",
      "3      Farm 4   -104.63     50.50         22.6           34.8  dark brown\n",
      "4      Farm 5   -102.25     50.10         22.4           39.7        None\n",
      "..        ...       ...       ...          ...            ...         ...\n",
      "195  Farm 196   -101.31     51.40         20.9           86.1       black\n",
      "196  Farm 197   -101.47     51.99         26.4           53.9       brown\n",
      "197  Farm 198   -104.75     51.34         32.9           89.9        gray\n",
      "198  Farm 199   -101.64     51.80         26.6           36.5        gray\n",
      "199  Farm 200   -102.58     50.20         27.0           33.0        gray\n",
      "\n",
      "[178 rows x 6 columns]\n"
     ]
    }
   ],
   "source": [
    "## Your code here down\n",
    "\n",
    "tempr20 = df['temperature'] > 20\n",
    "df_add1 = df[tempr20]\n",
    "print(df_add1)\n",
    "\n",
    "## Your code here up"
   ]
  },
  {
   "cell_type": "markdown",
   "metadata": {},
   "source": [
    "2. Sort the DataFrame by precipitation in descending order."
   ]
  },
  {
   "cell_type": "code",
   "execution_count": 320,
   "metadata": {
    "scrolled": true
   },
   "outputs": [
    {
     "name": "stdout",
     "output_type": "stream",
     "text": [
      "    farm_name  farm_lon  farm_lat  temperature  precipitation soil_type\n",
      "197  Farm 198   -104.75     51.34         32.9           89.9      gray\n",
      "109  Farm 110   -103.01     50.02         22.8           89.8      gray\n",
      "161  Farm 162   -102.32     51.49         25.0           89.7      None\n",
      "36    Farm 37   -100.94     51.19         22.6           89.3      gray\n",
      "101  Farm 102   -104.39     50.44         19.6           89.3     brown\n",
      "..        ...       ...       ...          ...            ...       ...\n",
      "119  Farm 120   -102.84     50.90         29.2           20.7     brown\n",
      "129  Farm 130   -103.82     51.27         25.3           20.7     black\n",
      "169  Farm 170   -103.90     51.19         27.0           20.3     brown\n",
      "25    Farm 26   -104.70     50.27         19.0           20.2      None\n",
      "153  Farm 154   -100.51     51.80         19.1           20.1     black\n",
      "\n",
      "[200 rows x 6 columns]\n"
     ]
    }
   ],
   "source": [
    "## Your code here down\n",
    "\n",
    "df_add2 = df.sort_values(by = 'precipitation', ascending = False)\n",
    "print(df_add2)\n",
    "\n",
    "## Your code here up"
   ]
  },
  {
   "cell_type": "markdown",
   "metadata": {},
   "source": [
    "3. Filter the DataFrame to include only the farms located within latitude (51.15 & 51.00) range."
   ]
  },
  {
   "cell_type": "code",
   "execution_count": 321,
   "metadata": {
    "scrolled": true
   },
   "outputs": [
    {
     "name": "stdout",
     "output_type": "stream",
     "text": [
      "    farm_name  farm_lon  farm_lat  temperature  precipitation   soil_type\n",
      "13    Farm 14   -101.87     51.02         28.8           66.0  dark brown\n",
      "20    Farm 21   -100.14     51.09         19.9           79.9        None\n",
      "34    Farm 35   -104.91     51.11         22.8           68.1        None\n",
      "66    Farm 67   -100.66     51.02         23.8           62.0        gray\n",
      "79    Farm 80   -101.88     51.04         22.6           40.9        gray\n",
      "89    Farm 90   -103.24     51.05         26.2           31.6        None\n",
      "90    Farm 91   -102.86     51.04         30.8           41.6       brown\n",
      "128  Farm 129   -102.15     51.11         26.3           66.1        None\n",
      "136  Farm 137   -100.44     51.05         24.5           86.1  dark brown\n",
      "140  Farm 141   -102.32     51.04         22.3           38.1        gray\n",
      "175  Farm 176   -100.79     51.04         29.9           82.5        gray\n"
     ]
    }
   ],
   "source": [
    "## Your code here down\n",
    "\n",
    "condition_lat = ((df['farm_lat'] <= 51.15) & (df['farm_lat'] >= 51.00))\n",
    "df_add3 = df[condition_lat]\n",
    "print(df_add3)\n",
    "\n",
    "## Your code here up"
   ]
  },
  {
   "cell_type": "markdown",
   "metadata": {},
   "source": [
    " 4. Calculate the standard deviation of precipitation for each soil type."
   ]
  },
  {
   "cell_type": "code",
   "execution_count": 322,
   "metadata": {
    "scrolled": true
   },
   "outputs": [
    {
     "name": "stdout",
     "output_type": "stream",
     "text": [
      "            precipitation\n",
      "soil_type                \n",
      "black           20.624258\n",
      "brown           21.534739\n",
      "dark brown      19.662565\n",
      "gray            20.411336\n"
     ]
    }
   ],
   "source": [
    "## Your code here down\n",
    "\n",
    "df_add4 = df.groupby('soil_type').agg({'precipitation': 'std'})\n",
    "print(df_add4)\n",
    "\n",
    "## Your code here up"
   ]
  },
  {
   "cell_type": "markdown",
   "metadata": {},
   "source": [
    "5. Calculate the cumulative sum of precipitation for each soil type."
   ]
  },
  {
   "cell_type": "code",
   "execution_count": 323,
   "metadata": {
    "scrolled": true
   },
   "outputs": [
    {
     "name": "stdout",
     "output_type": "stream",
     "text": [
      "     precipitation\n",
      "0              NaN\n",
      "1              NaN\n",
      "2             35.9\n",
      "3             34.8\n",
      "4              NaN\n",
      "..             ...\n",
      "195         1947.4\n",
      "196         2445.6\n",
      "197         2372.9\n",
      "198         2409.4\n",
      "199         2442.4\n",
      "\n",
      "[200 rows x 1 columns]\n"
     ]
    }
   ],
   "source": [
    "## Your code here down\n",
    "\n",
    "df_add5 = df.groupby('soil_type').agg({'precipitation': 'cumsum'})\n",
    "print(df_add5)\n",
    "\n",
    "## Your code here up"
   ]
  },
  {
   "cell_type": "markdown",
   "metadata": {},
   "source": [
    "6. Determine the top 3 farms with the highest average temperature."
   ]
  },
  {
   "cell_type": "code",
   "execution_count": 324,
   "metadata": {
    "scrolled": false
   },
   "outputs": [
    {
     "name": "stdout",
     "output_type": "stream",
     "text": [
      "           farm_lon  farm_lat  temperature  precipitation\n",
      "farm_name                                                \n",
      "Farm 153    -101.29     51.95         32.9           40.9\n",
      "Farm 198    -104.75     51.34         32.9           89.9\n",
      "Farm 101    -100.68     50.40         32.8           44.8\n"
     ]
    },
    {
     "name": "stderr",
     "output_type": "stream",
     "text": [
      "C:\\Users\\kamyn\\AppData\\Local\\Temp\\ipykernel_4384\\4264623594.py:3: FutureWarning: The default value of numeric_only in DataFrameGroupBy.mean is deprecated. In a future version, numeric_only will default to False. Either specify numeric_only or select only columns which should be valid for the function.\n",
      "  df_manipulation6 = df.groupby('farm_name').mean()\n"
     ]
    }
   ],
   "source": [
    "## Your code here down\n",
    "\n",
    "df_manipulation6 = df.groupby('farm_name').mean()\n",
    "df_add6 = df_manipulation6.sort_values(by='temperature', ascending=False).head(3)\n",
    "print(df_add6)\n",
    "\n",
    "## Your code here up"
   ]
  },
  {
   "cell_type": "markdown",
   "metadata": {},
   "source": [
    "7. Find famrs in each soil type that have the highest temperature."
   ]
  },
  {
   "cell_type": "code",
   "execution_count": 325,
   "metadata": {
    "scrolled": false
   },
   "outputs": [
    {
     "name": "stdout",
     "output_type": "stream",
     "text": [
      "    farm_name  farm_lon  farm_lat  temperature  precipitation   soil_type\n",
      "100  Farm 101   -100.68     50.40         32.8           44.8       black\n",
      "115  Farm 116   -100.69     51.72         32.8           47.1       brown\n",
      "15    Farm 16   -102.73     50.76         32.5           83.1  dark brown\n",
      "197  Farm 198   -104.75     51.34         32.9           89.9        gray\n"
     ]
    }
   ],
   "source": [
    "## Your code here down\n",
    "\n",
    "condition_index = df.groupby('soil_type')['temperature'].idxmax()\n",
    "df_add7 = df.loc[condition_index]\n",
    "print(df_add7)\n",
    "\n",
    "## Your code here up"
   ]
  },
  {
   "cell_type": "markdown",
   "metadata": {},
   "source": [
    "8. Create new column 'percentage_tot_prec' and add the percentage contribution of each farm's precipitation (relative to total precipitation) to the column."
   ]
  },
  {
   "cell_type": "code",
   "execution_count": 326,
   "metadata": {
    "scrolled": false
   },
   "outputs": [
    {
     "name": "stdout",
     "output_type": "stream",
     "text": [
      "0      0.228225\n",
      "1      0.560938\n",
      "2      0.329047\n",
      "3      0.318965\n",
      "4      0.363876\n",
      "         ...   \n",
      "195    0.789163\n",
      "196    0.494029\n",
      "197    0.823992\n",
      "198    0.334546\n",
      "199    0.302466\n",
      "Name: precipitation, Length: 200, dtype: float64\n"
     ]
    }
   ],
   "source": [
    "## Your code here down\n",
    "\n",
    "df_add8['percentage_tot_prec'] = (df['precipitation'] / df['precipitation'].sum()) * 100\n",
    "print(df_add8['percentage_tot_prec'])\n",
    "\n",
    "## Your code here up"
   ]
  },
  {
   "cell_type": "markdown",
   "metadata": {},
   "source": [
    "9. Create a new column called \"precipitation_rank\" that ranks the farms based on their precipitation in ascending order, with ties being assigned the same rank."
   ]
  },
  {
   "cell_type": "code",
   "execution_count": 328,
   "metadata": {
    "scrolled": true
   },
   "outputs": [
    {
     "name": "stdout",
     "output_type": "stream",
     "text": [
      "    farm_name  farm_lon  farm_lat  temperature  precipitation soil_type  \\\n",
      "0    Farm 154   -100.51     51.80         19.1           20.1     black   \n",
      "1     Farm 26   -104.70     50.27         19.0           20.2      None   \n",
      "2    Farm 170   -103.90     51.19         27.0           20.3     brown   \n",
      "3    Farm 130   -103.82     51.27         25.3           20.7     black   \n",
      "4    Farm 120   -102.84     50.90         29.2           20.7     brown   \n",
      "..        ...       ...       ...          ...            ...       ...   \n",
      "195  Farm 102   -104.39     50.44         19.6           89.3     brown   \n",
      "196   Farm 37   -100.94     51.19         22.6           89.3      gray   \n",
      "197  Farm 162   -102.32     51.49         25.0           89.7      None   \n",
      "198  Farm 110   -103.01     50.02         22.8           89.8      gray   \n",
      "199  Farm 198   -104.75     51.34         32.9           89.9      gray   \n",
      "\n",
      "     precipitation_rank  \n",
      "0                     1  \n",
      "1                     2  \n",
      "2                     3  \n",
      "3                     4  \n",
      "4                     5  \n",
      "..                  ...  \n",
      "195                 196  \n",
      "196                 197  \n",
      "197                 198  \n",
      "198                 199  \n",
      "199                 200  \n",
      "\n",
      "[200 rows x 7 columns]\n"
     ]
    }
   ],
   "source": [
    "## Your code here down\n",
    "\n",
    "manipulation9_precipitation = df.sort_values('precipitation')\n",
    "manipulation9_precipitation['precipitation_rank'] = np.arange(1, len(manipulation9_precipitation) + 1)\n",
    "manipulation9_precipitation = manipulation9_precipitation.reset_index(drop=True)\n",
    "\n",
    "print(manipulation9_precipitation)\n",
    "\n",
    "## Your code here up"
   ]
  },
  {
   "cell_type": "markdown",
   "metadata": {},
   "source": [
    "10. Normalize the temperature column to a range between 0 and 1 for each farm."
   ]
  },
  {
   "cell_type": "code",
   "execution_count": 303,
   "metadata": {
    "scrolled": true
   },
   "outputs": [],
   "source": [
    "## Your code here down\n",
    "\n",
    "\n",
    "\n",
    "## Your code here up"
   ]
  },
  {
   "cell_type": "markdown",
   "metadata": {},
   "source": [
    "# Assignment 4"
   ]
  },
  {
   "cell_type": "markdown",
   "metadata": {},
   "source": [
    "## ETL"
   ]
  },
  {
   "cell_type": "markdown",
   "metadata": {},
   "source": [
    "11. Change column types accordingly."
   ]
  },
  {
   "cell_type": "code",
   "execution_count": 329,
   "metadata": {},
   "outputs": [
    {
     "name": "stdout",
     "output_type": "stream",
     "text": [
      "farm_name         object\n",
      "farm_lon         float64\n",
      "farm_lat         float64\n",
      "temperature      float64\n",
      "precipitation      int64\n",
      "soil_type         string\n",
      "dtype: object\n"
     ]
    }
   ],
   "source": [
    "## Your code here down\n",
    "\n",
    "df_add11 = df\n",
    "df_add11['farm_name'] = df['farm_name'].astype('object')\n",
    "df_add11['farm_lon'] = df['farm_lon'].astype('float64')\n",
    "df_add11['farm_lat'] = df['farm_lat'].astype('float64')\n",
    "df_add11['temperature'] = df['temperature'].astype('float64')\n",
    "df_add11['precipitation'] = df['precipitation'].astype('int64')\n",
    "df_add11['soil_type'] = df['soil_type'].astype('string')\n",
    "\n",
    "print(df_add11.dtypes)\n",
    "\n",
    "## Your code here up"
   ]
  },
  {
   "cell_type": "markdown",
   "metadata": {},
   "source": [
    "## EDA"
   ]
  },
  {
   "cell_type": "markdown",
   "metadata": {},
   "source": [
    "12. Find missing values and give information how would you handle them"
   ]
  },
  {
   "cell_type": "code",
   "execution_count": 330,
   "metadata": {
    "scrolled": true
   },
   "outputs": [
    {
     "name": "stdout",
     "output_type": "stream",
     "text": [
      "     farm_name  farm_lon  farm_lat  temperature  precipitation  soil_type\n",
      "0        False     False     False        False          False       True\n",
      "1        False     False     False        False          False       True\n",
      "2        False     False     False        False          False      False\n",
      "3        False     False     False        False          False      False\n",
      "4        False     False     False        False          False       True\n",
      "..         ...       ...       ...          ...            ...        ...\n",
      "195      False     False     False        False          False      False\n",
      "196      False     False     False        False          False      False\n",
      "197      False     False     False        False          False      False\n",
      "198      False     False     False        False          False      False\n",
      "199      False     False     False        False          False      False\n",
      "\n",
      "[200 rows x 6 columns]\n"
     ]
    }
   ],
   "source": [
    "## Your code here down\n",
    "\n",
    "df_add12 = df\n",
    "df_add12_miss = df_add12.isnull()\n",
    "print(df_add12_miss)\n",
    "\n",
    "# 1). Drop the rows if a dataset has a decent volume  of information\n",
    "# 2). Replace missing data with average values according to a grouping of specific elements\n",
    "# 3). Replace missing data with closest values according to a grouping of specific elements\n",
    "\n",
    "## Your code here up"
   ]
  },
  {
   "cell_type": "markdown",
   "metadata": {},
   "source": [
    "13. Find outliers if there is any how would you handle them"
   ]
  },
  {
   "cell_type": "code",
   "execution_count": 331,
   "metadata": {
    "scrolled": true
   },
   "outputs": [
    {
     "data": {
      "image/png": "[encoded data removed]",
      "text/plain": [
       "<Figure size 640x480 with 1 Axes>"
      ]
     },
     "metadata": {},
     "output_type": "display_data"
    }
   ],
   "source": [
    "## Your code here down\n",
    "\n",
    "df_add13 = df\n",
    "grouped_add13 = df_add13.groupby('soil_type')['temperature'].mean()\n",
    "plt.scatter(grouped_add13.index, grouped_add13.values)\n",
    "plt.xlabel('Soil Type')\n",
    "plt.ylabel('Mean Temperature')\n",
    "plt.title('Temperature and Soil type')\n",
    "plt.show()\n",
    "\n",
    "# You can show any outliers with different charts line bars, scatter or boxplots depending on situation and comparisons\n",
    "\n",
    "## Your code here up"
   ]
  },
  {
   "cell_type": "markdown",
   "metadata": {},
   "source": [
    "14. Find descriptive statistics for relavant columns and plot them by using bars."
   ]
  },
  {
   "cell_type": "code",
   "execution_count": 332,
   "metadata": {
    "scrolled": false
   },
   "outputs": [
    {
     "data": {
      "image/png": "[encoded data removed]",
      "text/plain": [
       "<Figure size 640x480 with 1 Axes>"
      ]
     },
     "metadata": {},
     "output_type": "display_data"
    }
   ],
   "source": [
    "## Your code here down\n",
    "\n",
    "stats_add14 = df.describe()\n",
    "stats_add14.plot.bar()\n",
    "plt.title('Statistics chart')\n",
    "plt.show()\n",
    "\n",
    "## Your code here up"
   ]
  },
  {
   "cell_type": "markdown",
   "metadata": {},
   "source": [
    "15. Plot the distribution of relevant columns."
   ]
  },
  {
   "cell_type": "code",
   "execution_count": 333,
   "metadata": {
    "scrolled": true
   },
   "outputs": [
    {
     "data": {
      "image/png": "[encoded data removed]",
      "text/plain": [
       "<Figure size 640x480 with 1 Axes>"
      ]
     },
     "metadata": {},
     "output_type": "display_data"
    }
   ],
   "source": [
    "## Your code here down\n",
    "\n",
    "df_add15 = df\n",
    "plt.scatter(df_add15['temperature'], df_add15['precipitation'])\n",
    "plt.xlabel('Temperature')\n",
    "plt.ylabel('Precipitation')\n",
    "plt.title('Temperature and Precipitation')\n",
    "plt.show()\n",
    "\n",
    "## Your code here up"
   ]
  },
  {
   "cell_type": "code",
   "execution_count": null,
   "metadata": {},
   "outputs": [],
   "source": []
  }
 ],
 "metadata": {
  "kernelspec": {
   "display_name": "Python 3 (ipykernel)",
   "language": "python",
   "name": "python3"
  },
  "language_info": {
   "codemirror_mode": {
    "name": "ipython",
    "version": 3
   },
   "file_extension": ".py",
   "mimetype": "text/x-python",
   "name": "python",
   "nbconvert_exporter": "python",
   "pygments_lexer": "ipython3",
   "version": "3.11.4"
  }
 },
 "nbformat": 4,
 "nbformat_minor": 2
}
