{
 "cells": [
  {
   "cell_type": "markdown",
   "metadata": {},
   "source": [
    "# Scoping"
   ]
  },
  {
   "cell_type": "markdown",
   "metadata": {},
   "source": [
    "Family midsize farm company from USA with experience in peas growing interested in expansion to the Canadian market according to the new government support program farmland leasing for 10 years in SK and MB.\n",
    "\n",
    "Need to find out the most appropriate territories for peas growing for the mid-time period in this region according to rent options."
   ]
  },
  {
   "cell_type": "markdown",
   "metadata": {},
   "source": [
    "# ETL (Extract, Transform, Load)"
   ]
  },
  {
   "cell_type": "code",
   "execution_count": null,
   "metadata": {},
   "outputs": [],
   "source": [
    "import pandas as pd\n",
    "import numpy as np\n",
    "import geopandas as gpd\n",
    "import matplotlib.pyplot as plt\n",
    "import seaborn as sb\n",
    "import folium\n",
    "plt.rcParams['figure.figsize'] = [12, 8]"
   ]
  },
  {
   "cell_type": "markdown",
   "metadata": {},
   "source": [
    "Import data sets connected to territories from open sources"
   ]
  },
  {
   "cell_type": "markdown",
   "metadata": {},
   "source": [
    "## Yield"
   ]
  },
  {
   "cell_type": "code",
   "execution_count": null,
   "metadata": {},
   "outputs": [],
   "source": [
    "path1 = r'D:\\Education\\Palette Agro\\Analitics\\Assignments\\3\\rm-yields-data.csv'\n",
    "df_sk = pd.read_csv(path1)\n",
    "\n",
    "# error with basic code reading \n",
    "# df_sk=pd.read_csv('D:\\Education\\Palette Agro\\Analitics\\Assignments\\3\\rm-yields-data.csv')"
   ]
  },
  {
   "cell_type": "code",
   "execution_count": null,
   "metadata": {},
   "outputs": [],
   "source": [
    "path2 = r'D:\\Education\\Palette Agro\\Analitics\\Assignments\\3\\MMPP - Yield by Soil Type Browser.xlsx'\n",
    "df_mb = pd.read_excel(path2)\n",
    "\n",
    "# error with basic code reading\n",
    "# df_mb=pd.read_excel('D:\\Education\\Palette Agro\\Analitics\\Assignments\\3MMPP - Yield by Soil Type Browser.xlsx')"
   ]
  },
  {
   "cell_type": "markdown",
   "metadata": {},
   "source": [
    "## Shapefiles"
   ]
  },
  {
   "cell_type": "code",
   "execution_count": null,
   "metadata": {},
   "outputs": [],
   "source": [
    "path3 = r'D:\\Education\\Palette Agro\\Analitics\\Assignments\\3\\RuralMunicipality.shp'\n",
    "gdf_sk = gpd.read_file(path3)\n",
    "\n",
    "# error with basic code reading\n",
    "# gdf_sk=gpd.read_file('D:\\Education\\Palette Agro\\Analitics\\Assignments\\3\\RuralMunicipality.shp')"
   ]
  },
  {
   "cell_type": "code",
   "execution_count": null,
   "metadata": {},
   "outputs": [],
   "source": [
    "path4 = r'D:\\Education\\Palette Agro\\Analitics\\Assignments\\3\\MB_Municipal_Boundaries.shp'\n",
    "gdf_mb = gpd.read_file(path4)\n",
    "\n",
    "# error with basic code reading\n",
    "#gdf_mb=gpd.read_file('D:\\Education\\Palette Agro\\Analitics\\Assignments\\3MB_Municipal_Boundaries.shp')"
   ]
  },
  {
   "cell_type": "markdown",
   "metadata": {},
   "source": [
    "## Transforming"
   ]
  },
  {
   "cell_type": "markdown",
   "metadata": {},
   "source": [
    "Basic analysis of datasets for understanding of next manipulations"
   ]
  },
  {
   "cell_type": "code",
   "execution_count": null,
   "metadata": {
    "scrolled": true
   },
   "outputs": [],
   "source": [
    "# Info about columns from SK set\n",
    "df_sk.info()"
   ]
  },
  {
   "cell_type": "code",
   "execution_count": null,
   "metadata": {
    "scrolled": true
   },
   "outputs": [],
   "source": [
    "# Info about columns from MB set\n",
    "df_mb.info()"
   ]
  },
  {
   "cell_type": "code",
   "execution_count": null,
   "metadata": {
    "scrolled": true
   },
   "outputs": [],
   "source": [
    "# Table heads from SK set\n",
    "df_sk.head()"
   ]
  },
  {
   "cell_type": "code",
   "execution_count": null,
   "metadata": {
    "scrolled": true
   },
   "outputs": [],
   "source": [
    "# Table heads from MB set\n",
    "df_mb.head()"
   ]
  },
  {
   "cell_type": "code",
   "execution_count": null,
   "metadata": {
    "scrolled": false
   },
   "outputs": [],
   "source": [
    "# SK set main numeric info\n",
    "df_sk.describe()"
   ]
  },
  {
   "cell_type": "code",
   "execution_count": null,
   "metadata": {
    "scrolled": false
   },
   "outputs": [],
   "source": [
    "# MB set main numeric info\n",
    "df_mb.describe()"
   ]
  },
  {
   "cell_type": "markdown",
   "metadata": {},
   "source": [
    "Datasets have different structures and measurements.\n",
    "Have to be brought to a unified form."
   ]
  },
  {
   "cell_type": "code",
   "execution_count": null,
   "metadata": {
    "scrolled": true
   },
   "outputs": [],
   "source": [
    "df_mb['Yield/acre(Metric)']=df_mb['Yield/acre(Metric)'].str.replace(' Tonnes', '') # Replacing Tonnes\n",
    "df_mb['Yield/acre(Metric)']=df_mb['Yield/acre(Metric)'].replace('Tolerance', np.NaN) # Replacing Tolerance\n",
    "df_mb['Yield/acre(Metric)']=df_mb['Yield/acre(Metric)'].astype(float) # Changing object to float data type"
   ]
  },
  {
   "cell_type": "code",
   "execution_count": null,
   "metadata": {},
   "outputs": [],
   "source": [
    "df_mb_pivot=pd.pivot_table(df_mb.drop(columns=['Yield/acre(Metric).1', 'Yield/acre(Imperial)', 'Soil', 'Farms' ]),\n",
    "               index=['Risk Area / R.M.', 'Year'], columns='Crop', values='Yield/acre(Metric)')\\\n",
    "               .reset_index()"
   ]
  },
  {
   "cell_type": "code",
   "execution_count": null,
   "metadata": {},
   "outputs": [],
   "source": [
    "df_sk.columns"
   ]
  },
  {
   "cell_type": "code",
   "execution_count": null,
   "metadata": {},
   "outputs": [],
   "source": [
    "df_mb_pivot.columns"
   ]
  },
  {
   "cell_type": "code",
   "execution_count": null,
   "metadata": {},
   "outputs": [],
   "source": [
    "# Rename columns for the same in both datasets and drop some data that we are not going to use\n",
    "df_mb_clean=df_mb_pivot.rename(columns={\n",
    "    'Risk Area / R.M.': 'RM', \n",
    "    'ARGENTINE CANOLA': 'Canola', \n",
    "    'BARLEY':'Barley',\n",
    "    'CANARYSEED': 'Canary Seed', \n",
    "    'DURUM WHEAT': 'Durum Wheat', \n",
    "     'LENTILS': 'Lentils', \n",
    "     'OATS': 'Oats',\n",
    "    'RED SPRING WHEAT': 'Spring Wheat', \n",
    "    'WHITE PEA BEANS': 'Peas'}) \\\n",
    "        .drop(columns=['ALFALFA', 'FABABEANS', 'FABABEANS', 'POLISH CANOLA'] )"
   ]
  },
  {
   "cell_type": "code",
   "execution_count": null,
   "metadata": {},
   "outputs": [],
   "source": [
    "df_sk_clean=df_sk.rename(columns={'Durum': 'Durum Wheat'}).drop(columns=['Winter Wheat', 'Mustard', 'Sunflowers', 'Fall Rye', 'Spring Rye', 'Tame Hay','Flax', 'Chickpeas' ] )"
   ]
  },
  {
   "cell_type": "code",
   "execution_count": null,
   "metadata": {
    "scrolled": true
   },
   "outputs": [],
   "source": [
    "df_sk_clean"
   ]
  },
  {
   "cell_type": "code",
   "execution_count": null,
   "metadata": {
    "scrolled": true
   },
   "outputs": [],
   "source": [
    "df_mb_clean"
   ]
  },
  {
   "cell_type": "code",
   "execution_count": null,
   "metadata": {},
   "outputs": [],
   "source": [
    "# Crop conversion in MB tonnes to bushel\n",
    "df_mb_clean['Canola']=df_mb_clean['Canola'] * 44.092\n",
    "df_mb_clean['Barley']=df_mb_clean['Barley'] * 45.93\n",
    "df_mb_clean['Canary Seed']=df_mb_clean['Canary Seed'] * 44.092\n",
    "df_mb_clean['Durum Wheat']=df_mb_clean['Durum Wheat'] * 36.74\n",
    "df_mb_clean['Lentils']=df_mb_clean['Lentils'] * 36.74\n",
    "df_mb_clean['Oats']=df_mb_clean['Oats'] * 64.842\n",
    "df_mb_clean['Spring Wheat']=df_mb_clean['Spring Wheat'] * 36.74\n",
    "df_mb_clean['Peas']=df_mb_clean['Peas'] *  36.74\n"
   ]
  },
  {
   "cell_type": "code",
   "execution_count": null,
   "metadata": {},
   "outputs": [],
   "source": [
    "# Crop Conversion in SK - pounds to bushels\n",
    "df_sk_clean['Lentils']=df_sk_clean['Lentils'] / 60\n",
    "df_sk_clean['Canary Seed']=df_sk_clean['Canary Seed'] / 50"
   ]
  },
  {
   "cell_type": "code",
   "execution_count": null,
   "metadata": {},
   "outputs": [],
   "source": [
    "# Creating province column\n",
    "df_mb_clean['Province'] = 'MB'\n",
    "df_sk_clean['Province'] = 'SK'"
   ]
  },
  {
   "cell_type": "code",
   "execution_count": null,
   "metadata": {},
   "outputs": [],
   "source": [
    "# Merging of data sets\n",
    "df = pd.concat([df_mb_clean, df_sk_clean])"
   ]
  },
  {
   "cell_type": "markdown",
   "metadata": {},
   "source": [
    "# EDA (Exploratory Data Analysis)"
   ]
  },
  {
   "cell_type": "markdown",
   "metadata": {},
   "source": [
    "## Missing Values"
   ]
  },
  {
   "cell_type": "markdown",
   "metadata": {},
   "source": [
    "Analyzing our dataset for missing data for columns with Crops"
   ]
  },
  {
   "cell_type": "code",
   "execution_count": null,
   "metadata": {},
   "outputs": [],
   "source": [
    "exclude_columns = ['RM', 'Year', 'Province']\n",
    "selected_columns = [col for col in df.columns if col not in exclude_columns]\n",
    "df_selected = df[selected_columns]\n",
    "\n",
    "colors = ['dodgerblue' if col == 'Oats' else 'lightgray' for col in selected_columns]  #some issue with column coloring\n",
    "\n",
    "missing_values = df_selected.isna().sum().sort_values()\n",
    "missing_values.plot(kind='bar', color=colors)\n",
    "plt.title('Missing Values - Full data from 1938 to 2022', color='Black')\n",
    "plt.xlabel('Crops')\n",
    "plt.ylabel('Count of Missing values')\n",
    "plt.axhline(len(df_selected) / 2, linestyle='--', color='red')\n",
    "plt.axhline(len(df_selected) / 4, linestyle='--', color='yellow')\n",
    "plt.axhline(len(df_selected) / 10, linestyle='--', color='green')\n",
    "plt.show()"
   ]
  },
  {
   "cell_type": "markdown",
   "metadata": {},
   "source": [
    "We focused on short/mid-period so checking only last 10 years"
   ]
  },
  {
   "cell_type": "code",
   "execution_count": null,
   "metadata": {
    "scrolled": true
   },
   "outputs": [],
   "source": [
    "exclude_columns = ['RM', 'Year', 'Province']\n",
    "filtered_df = df[df['Year'] > 2012]\n",
    "selected_columns = [col for col in filtered_df.columns if col not in exclude_columns]\n",
    "df_selected = filtered_df[selected_columns]\n",
    "\n",
    "colors = ['dodgerblue' if col == 'Lentils' else 'lightgray' for col in selected_columns] #some issue with column coloring\n",
    "\n",
    "missing_values = df_selected.isna().sum().sort_values()\n",
    "missing_values.plot(kind='bar', color=colors)\n",
    "plt.title('Missing Values - Data from 2013 to 2022', color='Black')\n",
    "plt.xlabel('Crops')\n",
    "plt.ylabel('Count of Missing values')\n",
    "plt.axhline(len(df_selected)/2, linestyle='--', color='red')\n",
    "plt.axhline(len(df_selected)/4, linestyle='--', color='yellow')\n",
    "plt.axhline(len(df_selected)/10, linestyle='--', color='green')\n",
    "plt.show()"
   ]
  },
  {
   "cell_type": "markdown",
   "metadata": {},
   "source": [
    "## Outliers"
   ]
  },
  {
   "cell_type": "code",
   "execution_count": null,
   "metadata": {},
   "outputs": [],
   "source": [
    "crop_columns=['Peas']"
   ]
  },
  {
   "cell_type": "markdown",
   "metadata": {},
   "source": [
    "## Histograms"
   ]
  },
  {
   "cell_type": "code",
   "execution_count": null,
   "metadata": {},
   "outputs": [],
   "source": [
    "df[crop_columns].hist(bins=200)\n",
    "plt.show()"
   ]
  },
  {
   "cell_type": "markdown",
   "metadata": {},
   "source": [
    "## Boxplots"
   ]
  },
  {
   "cell_type": "code",
   "execution_count": null,
   "metadata": {
    "scrolled": true
   },
   "outputs": [],
   "source": [
    "df[crop_columns].boxplot()"
   ]
  },
  {
   "cell_type": "markdown",
   "metadata": {},
   "source": [
    "Find extreme points and their number"
   ]
  },
  {
   "cell_type": "code",
   "execution_count": null,
   "metadata": {
    "scrolled": true
   },
   "outputs": [],
   "source": [
    "df.loc[df['Peas']>75]"
   ]
  },
  {
   "cell_type": "markdown",
   "metadata": {},
   "source": [
    "## GIS Analyis"
   ]
  },
  {
   "cell_type": "code",
   "execution_count": null,
   "metadata": {},
   "outputs": [],
   "source": [
    "# CRS --> Cordinate Reference Systems\n",
    "gdf_mb['geometry'].crs"
   ]
  },
  {
   "cell_type": "code",
   "execution_count": null,
   "metadata": {},
   "outputs": [],
   "source": [
    "# Standardazing CRS formats\n",
    "gdf_sk['geometry']=gdf_sk['geometry'].to_crs('epsg:4326')\n",
    "gdf_mb['geometry']=gdf_mb['geometry'].to_crs('epsg:4326')"
   ]
  },
  {
   "cell_type": "code",
   "execution_count": null,
   "metadata": {},
   "outputs": [],
   "source": [
    "# Renaming column name\n",
    "gdf_sk['RMNO']=gdf_sk['RMNO'].astype(int)"
   ]
  },
  {
   "cell_type": "code",
   "execution_count": null,
   "metadata": {},
   "outputs": [],
   "source": [
    "#set(gdf['RM'].unique()) - set(df_sk_clean['RM'].unique())"
   ]
  },
  {
   "cell_type": "code",
   "execution_count": null,
   "metadata": {},
   "outputs": [],
   "source": [
    "gdf_mb['MUNI_NAME']=gdf_mb['MUNI_NAME'].str.replace('RM OF ','')"
   ]
  },
  {
   "cell_type": "code",
   "execution_count": null,
   "metadata": {},
   "outputs": [],
   "source": [
    "gdf=pd.concat([gdf_sk[['RMNO','geometry']].rename(columns={'RMNO':'RM'}),gdf_mb[['MUNI_NAME', 'geometry']].rename(columns={'MUNI_NAME':'RM'})])"
   ]
  },
  {
   "cell_type": "code",
   "execution_count": null,
   "metadata": {},
   "outputs": [],
   "source": [
    "# gdf.plot()not interactive\n",
    "# gdf.explore()"
   ]
  },
  {
   "cell_type": "code",
   "execution_count": null,
   "metadata": {},
   "outputs": [],
   "source": [
    "gdf['RM']=gdf['RM'].astype('string')\n",
    "df['RM']=df['RM'].astype('string')"
   ]
  },
  {
   "cell_type": "code",
   "execution_count": null,
   "metadata": {},
   "outputs": [],
   "source": [
    "# SQL inner join\n",
    "df_gdf=pd.merge(gdf, df, on='RM', how='inner') "
   ]
  },
  {
   "cell_type": "code",
   "execution_count": null,
   "metadata": {},
   "outputs": [],
   "source": [
    "print('Before merging', gdf['RM'].nunique())\n",
    "print('After merging',df_gdf['RM'].nunique())"
   ]
  },
  {
   "cell_type": "code",
   "execution_count": null,
   "metadata": {},
   "outputs": [],
   "source": [
    "ds=df_gdf.copy()"
   ]
  },
  {
   "cell_type": "markdown",
   "metadata": {},
   "source": [
    "### GIS Visualization"
   ]
  },
  {
   "cell_type": "markdown",
   "metadata": {},
   "source": [
    "Explore function"
   ]
  },
  {
   "cell_type": "code",
   "execution_count": null,
   "metadata": {},
   "outputs": [],
   "source": [
    "m=ds.loc[ds['Year']==2021].explore(column='Peas', \n",
    "                                   legend=True, cmap='Greens',tooltip= ['Peas', 'RM'], tiles='Stamen Toner') \n",
    "# Plot() is good for showing up in GitHub, Explore() is good for interactive map and saving as HTML\n",
    "\n",
    "# Adding a title with dark orange color to the folium map\n",
    "title_html = '''\n",
    "                 <h3 align=\"center\" style=\"font-size:30px; color:Green;\"><b> Canola Yield in 2021 </b></h3>\n",
    "             '''\n",
    "m.get_root().html.add_child(folium.Element(title_html))\n",
    "m.save(r'D:\\Education\\Palette Agro\\Analitics\\Assignments\\3\\Peas_2021.html')"
   ]
  },
  {
   "cell_type": "markdown",
   "metadata": {},
   "source": [
    "#### Plot"
   ]
  },
  {
   "cell_type": "markdown",
   "metadata": {},
   "source": [
    "First glance at the territories for the lastest data period"
   ]
  },
  {
   "cell_type": "code",
   "execution_count": null,
   "metadata": {
    "scrolled": true
   },
   "outputs": [],
   "source": [
    "ds.loc[ds['Year']==2022].plot(column='Peas', legend=True, cmap='Blues')"
   ]
  },
  {
   "cell_type": "markdown",
   "metadata": {},
   "source": [
    "Visual differences for the last 10 years"
   ]
  },
  {
   "cell_type": "code",
   "execution_count": null,
   "metadata": {},
   "outputs": [],
   "source": [
    "years = list(range(2014, 2023))\n",
    "\n",
    "num_years = len(years)\n",
    "num_cols = 3\n",
    "num_rows = (num_years + num_cols - 1) // num_cols\n",
    "\n",
    "fig, axes = plt.subplots(num_rows, num_cols, figsize=(12, 8))\n",
    "axes = axes.flatten()\n",
    "\n",
    "for i, year in enumerate(years):\n",
    "    if i < num_years:\n",
    "        ax = axes[i]\n",
    "        ds.loc[ds['Year'] == year].plot(column='Peas', legend=False, cmap='Blues', ax=ax)\n",
    "        ax.set_title(f'Year {year}')\n",
    "        ax.set_axis_off()\n",
    "    else:\n",
    "        fig.delaxes(axes[i])\n",
    "\n",
    "plt.tight_layout()\n",
    "plt.show()"
   ]
  },
  {
   "cell_type": "markdown",
   "metadata": {},
   "source": [
    "## Aggregations"
   ]
  },
  {
   "cell_type": "markdown",
   "metadata": {},
   "source": [
    "More detailed and visible differences"
   ]
  },
  {
   "cell_type": "code",
   "execution_count": null,
   "metadata": {},
   "outputs": [],
   "source": [
    "df_13_22=df.loc[df['Year']>2013].sort_values(['RM', 'Year'])"
   ]
  },
  {
   "cell_type": "code",
   "execution_count": null,
   "metadata": {},
   "outputs": [],
   "source": [
    "fig, axes = plt.subplots(3, 3, figsize=(12, 8))\n",
    "years = df_13_22['Year'].unique()\n",
    "\n",
    "for i, year in enumerate(years):\n",
    "    ax = axes[i//3, i%3]\n",
    "    merged_df = pd.merge(gdf, df_13_22.loc[df_13_22['Year'] == year], on='RM')\n",
    "    merged_df.plot(column='Peas', cmap='Blues', legend=True, ax=ax)\n",
    "    ax.set_title(f'Peas Yield in {year}', color='Black', size=12)\n",
    "\n",
    "    ax.set_axis_off()\n",
    "\n",
    "plt.tight_layout()\n",
    "plt.show()"
   ]
  },
  {
   "cell_type": "markdown",
   "metadata": {},
   "source": [
    "Comparison with mean for 10 and 5 last years for positive trending on territories"
   ]
  },
  {
   "cell_type": "code",
   "execution_count": null,
   "metadata": {
    "scrolled": true
   },
   "outputs": [],
   "source": [
    "mean_peas_1 = df_13_22[(df_13_22['Year'] >= 2013) & (df_13_22['Year'] <= 2022)].groupby('RM')['Peas'].mean()\n",
    "mean_peas_2 = df_13_22[(df_13_22['Year'] >= 2017) & (df_13_22['Year'] <= 2022)].groupby('RM')['Peas'].mean()\n",
    "\n",
    "new_df_mean_years = df_13_22[['RM', 'Year', 'Province', 'Peas']]\n",
    "\n",
    "new_df_mean_years['Mean_Peas_1'] = df_13_22['RM'].map(mean_peas_1)\n",
    "new_df_mean_years['Mean_Peas_2'] = df_13_22['RM'].map(mean_peas_2)\n",
    "new_df_mean_years['Mean_Peas_Difference'] = new_df_mean_years['Mean_Peas_2'] - new_df_mean_years['Mean_Peas_1']"
   ]
  },
  {
   "cell_type": "code",
   "execution_count": null,
   "metadata": {},
   "outputs": [],
   "source": [
    "positive_rm = new_df_mean_years[new_df_mean_years['Mean_Peas_Difference'] > 0].drop_duplicates(subset='RM')[['RM']]"
   ]
  },
  {
   "cell_type": "code",
   "execution_count": null,
   "metadata": {},
   "outputs": [],
   "source": [
    "agg_funcs = {\n",
    "    column: ['mean', 'std', 'median'] for column in crop_columns\n",
    "}\n",
    "\n",
    "df_agg = new_df_mean_years.set_index('RM')[crop_columns].groupby('RM').agg(agg_funcs)\n",
    "df_agg.columns = ['_'.join(col).strip() for col in df_agg.columns.values]\n",
    "\n",
    "df_agg=df_agg.dropna(subset='Peas_mean')"
   ]
  },
  {
   "cell_type": "markdown",
   "metadata": {},
   "source": [
    "Dataframe of RM with positive trend of Yield"
   ]
  },
  {
   "cell_type": "code",
   "execution_count": null,
   "metadata": {},
   "outputs": [],
   "source": [
    "positive_rm"
   ]
  },
  {
   "cell_type": "markdown",
   "metadata": {},
   "source": [
    "# Feature Selection"
   ]
  },
  {
   "cell_type": "markdown",
   "metadata": {},
   "source": [
    "## Filtered Methods"
   ]
  },
  {
   "cell_type": "code",
   "execution_count": null,
   "metadata": {},
   "outputs": [],
   "source": [
    "# ANOVA\n",
    "# Pearson Correlation"
   ]
  },
  {
   "cell_type": "markdown",
   "metadata": {},
   "source": [
    "## Wrapper"
   ]
  },
  {
   "cell_type": "code",
   "execution_count": null,
   "metadata": {},
   "outputs": [],
   "source": [
    "## Recurisive Feature Elimnation\n",
    "## Backward feature elimination"
   ]
  },
  {
   "cell_type": "markdown",
   "metadata": {},
   "source": [
    "## Emedded "
   ]
  },
  {
   "cell_type": "code",
   "execution_count": null,
   "metadata": {},
   "outputs": [],
   "source": [
    "# Decision Tree\n",
    "# Lasso Reg"
   ]
  },
  {
   "cell_type": "markdown",
   "metadata": {},
   "source": [
    "# Standardizing/Split"
   ]
  },
  {
   "cell_type": "code",
   "execution_count": null,
   "metadata": {},
   "outputs": [],
   "source": [
    "# Only for Supervised ML, not unsupervised"
   ]
  },
  {
   "cell_type": "markdown",
   "metadata": {},
   "source": [
    "# Training Models"
   ]
  },
  {
   "cell_type": "code",
   "execution_count": null,
   "metadata": {},
   "outputs": [],
   "source": [
    "# Use default parameters - not advised\n",
    "\n",
    "# Parameter tuning\n",
    "# Use always grid search"
   ]
  },
  {
   "cell_type": "markdown",
   "metadata": {},
   "source": [
    "## K-Means Clustering"
   ]
  },
  {
   "cell_type": "code",
   "execution_count": null,
   "metadata": {},
   "outputs": [],
   "source": [
    "# Importing library\n",
    "from sklearn.cluster import KMeans \n",
    "\n",
    "df_agg_peas= df_agg[['Peas_mean', 'Peas_std']]\n",
    "\n",
    "# Let's define our features\n",
    "X = df_agg_peas.copy()\n",
    "\n",
    "from sklearn.metrics import silhouette_score\n",
    "n_clusters = [2,3,4,5,6,7,8,9,10,11,12,13,14,15] # number of clusters\n",
    "clusters_inertia = [] # inertia of clusters\n",
    "s_scores = [] # silhouette scores\n",
    "\n",
    "for n in n_clusters:\n",
    "    KM = KMeans(n_clusters=n, init='k-means++', n_init=10).fit(X)\n",
    "    clusters_inertia.append(KM.inertia_)    # data for the elbow method\n",
    "    silhouette_avg = silhouette_score(X, KM.labels_)\n",
    "    s_scores.append(silhouette_avg) # data for the silhouette score method"
   ]
  },
  {
   "cell_type": "markdown",
   "metadata": {},
   "source": [
    "## Elbow Metod"
   ]
  },
  {
   "cell_type": "code",
   "execution_count": null,
   "metadata": {},
   "outputs": [],
   "source": [
    "fig, ax = plt.subplots(figsize=(12,5))\n",
    "ax.plot(n_clusters, clusters_inertia, 'o-', color='dodgerblue', label='Elbow Method')\n",
    "ax.set_title(\"Elbow Method for Peas data\")\n",
    "ax.set_xlabel(\"Number of Clusters\")\n",
    "ax.set_ylabel(\"Clusters Inertia\")\n",
    "ax.axvline(4, ls=\"--\", c=\"lightcoral\")\n",
    "ax.axvline(5, ls=\"--\", c=\"lightcoral\")\n",
    "ax.axvline(6, ls=\"--\", c=\"lightcoral\")\n",
    "plt.grid()\n",
    "plt.legend()\n",
    "plt.show()"
   ]
  },
  {
   "cell_type": "markdown",
   "metadata": {},
   "source": [
    "## Silhouette Score"
   ]
  },
  {
   "cell_type": "code",
   "execution_count": null,
   "metadata": {},
   "outputs": [],
   "source": [
    "fig, ax = plt.subplots(figsize=(12,5))\n",
    "ax.plot(n_clusters, s_scores, 's-', color='dodgerblue', label='Silhouette Score Method')\n",
    "ax.set_title(\"Silhouette Score Method for Peas data\")\n",
    "ax.set_xlabel(\"Number of Clusters\")\n",
    "ax.set_ylabel(\"Silhouette Score\")\n",
    "ax.axvline(6, ls=\"--\", c=\"lightcoral\")\n",
    "plt.grid()\n",
    "plt.legend()\n",
    "plt.show()\n"
   ]
  },
  {
   "cell_type": "code",
   "execution_count": null,
   "metadata": {
    "scrolled": false
   },
   "outputs": [],
   "source": [
    "from sklearn.cluster import KMeans\n",
    "\n",
    "kmeans = KMeans(n_clusters=5, init='k-means++', random_state=42, n_init=10)\n",
    "df_agg_peas['Clusters_5']=kmeans.fit_predict(df_agg_peas)"
   ]
  },
  {
   "cell_type": "code",
   "execution_count": null,
   "metadata": {},
   "outputs": [],
   "source": [
    "kmeans = KMeans(n_clusters=7, init='k-means++', random_state=42)\n",
    "df_agg_peas['Clusters_7']=kmeans.fit_predict(df_agg_peas)"
   ]
  },
  {
   "cell_type": "code",
   "execution_count": null,
   "metadata": {},
   "outputs": [],
   "source": [
    "sb.scatterplot(data=df_agg_peas, x='Peas_mean', y='Peas_std', hue='Clusters_5')\n",
    "plt.title('Peas Clustering Mean and Std | 2013-2022 | K-Means ', color='Black', size =12)\n",
    "plt.show()"
   ]
  },
  {
   "cell_type": "code",
   "execution_count": null,
   "metadata": {},
   "outputs": [],
   "source": [
    "sb.scatterplot(data=df_agg_peas, x='Peas_mean', y='Peas_std', hue='Clusters_7')\n",
    "plt.title('Peas Clustering Mean and Std | 2013-2022 | K-Means ', color='black', size =12)\n",
    "plt.show()"
   ]
  },
  {
   "cell_type": "code",
   "execution_count": null,
   "metadata": {},
   "outputs": [],
   "source": [
    "df_agg_peas"
   ]
  },
  {
   "cell_type": "code",
   "execution_count": null,
   "metadata": {},
   "outputs": [],
   "source": [
    "pd.merge(\n",
    "    gdf,\n",
    "    df_agg_peas,\n",
    "    on='RM'\n",
    ").explore(column='Clusters_7', legend='True', k=7, scheme='naturalbreaks', cmap='Blues')"
   ]
  },
  {
   "cell_type": "markdown",
   "metadata": {},
   "source": [
    "## Ranking clusters based on Mean"
   ]
  },
  {
   "cell_type": "code",
   "execution_count": null,
   "metadata": {},
   "outputs": [],
   "source": [
    "df_agg_peas.groupby('Clusters_7').mean()\\\n",
    "    .sort_values('Peas_mean')[['Peas_mean',\t'Peas_std']]"
   ]
  },
  {
   "cell_type": "code",
   "execution_count": null,
   "metadata": {},
   "outputs": [],
   "source": [
    "# Ranking based on the mean / Manual repositioning\n",
    "df_agg_peas['Clusters_7_ranked']=df_agg_peas['Clusters_7'].replace(to_replace={\n",
    "    3:1,\n",
    "    6:3,\n",
    "    0:4,\n",
    "    5:2,\n",
    "    2:0,\n",
    "    4:5,\n",
    "    1:6\n",
    "})"
   ]
  },
  {
   "cell_type": "code",
   "execution_count": null,
   "metadata": {
    "scrolled": true
   },
   "outputs": [],
   "source": [
    "df_agg_peas.groupby('Clusters_7').mean()\\\n",
    "    .sort_values('Peas_std')[['Peas_mean',\t'Peas_std']]"
   ]
  },
  {
   "cell_type": "code",
   "execution_count": null,
   "metadata": {},
   "outputs": [],
   "source": [
    "# Ranking based on the STD or volatility / Manual repositioning\n",
    "df_agg_peas['Clusters_7_ranked_std']=df_agg_peas['Clusters_7'].replace(to_replace={\n",
    "    2:0,\n",
    "    5:1,\n",
    "    4:2,\n",
    "    1:3,\n",
    "    3:4,\n",
    "    0:5,\n",
    "    6:6\n",
    "})"
   ]
  },
  {
   "cell_type": "code",
   "execution_count": null,
   "metadata": {},
   "outputs": [],
   "source": [
    "df_agg_peas.head()"
   ]
  },
  {
   "cell_type": "markdown",
   "metadata": {},
   "source": [
    "Yield of territories by mean"
   ]
  },
  {
   "cell_type": "code",
   "execution_count": null,
   "metadata": {},
   "outputs": [],
   "source": [
    "pd.merge(\n",
    "    gdf,\n",
    "    df_agg_peas,\n",
    "    on='RM'\n",
    ").explore(column='Clusters_7_ranked', legend='True', k=7, scheme='naturalbreaks', cmap='Blues')"
   ]
  },
  {
   "cell_type": "markdown",
   "metadata": {},
   "source": [
    "Yield of territories by STD"
   ]
  },
  {
   "cell_type": "code",
   "execution_count": null,
   "metadata": {
    "scrolled": false
   },
   "outputs": [],
   "source": [
    "pd.merge(\n",
    "    gdf,\n",
    "    df_agg_peas,\n",
    "    on='RM'\n",
    ").explore(column='Clusters_7_ranked_std', legend='True', k=7, scheme='naturalbreaks', cmap='Blues')"
   ]
  },
  {
   "cell_type": "markdown",
   "metadata": {},
   "source": [
    "The same data but with default plot"
   ]
  },
  {
   "cell_type": "code",
   "execution_count": null,
   "metadata": {
    "scrolled": true
   },
   "outputs": [],
   "source": [
    "merged_gdf = pd.merge(gdf, df_agg_peas, on='RM')\n",
    "\n",
    "merged_gdf.plot(column='Clusters_7_ranked_std', legend=False, k=7, scheme='naturalbreaks', cmap='Blues')\n",
    "plt.show()"
   ]
  },
  {
   "cell_type": "markdown",
   "metadata": {},
   "source": [
    "For more focus going to filter by positive trend"
   ]
  },
  {
   "cell_type": "code",
   "execution_count": null,
   "metadata": {
    "scrolled": true
   },
   "outputs": [],
   "source": [
    "merged_df = positive_rm.merge(df_agg_peas, on='RM')\n",
    "\n",
    "merged_gdf = gdf.merge(merged_df, on='RM')\n",
    "\n",
    "fig, ax = plt.subplots(1, 1, figsize=(12, 10))\n",
    "merged_gdf.plot(column='Clusters_7_ranked_std', legend=False, k=7, scheme='naturalbreaks', cmap='Blues', ax=ax)\n",
    "\n",
    "ax.set_title('Positive trend for the last 5 years')\n",
    "plt.show()"
   ]
  },
  {
   "cell_type": "markdown",
   "metadata": {},
   "source": [
    "Creating a map with the best Yield and positive trend territories"
   ]
  },
  {
   "cell_type": "code",
   "execution_count": null,
   "metadata": {
    "scrolled": true
   },
   "outputs": [],
   "source": [
    "merged_df = positive_rm.merge(df_agg_peas[df_agg_peas['Clusters_7_ranked_std'].isin([0])], on='RM', how='inner')\n",
    "merged_gdf = gdf.merge(merged_df, on='RM')\n",
    "rm_values = merged_gdf['RM'].tolist()\n",
    "\n",
    "fig, ax = plt.subplots(1, 1, figsize=(12, 10))\n",
    "merged_gdf.plot(column='Clusters_7_ranked_std', legend=False, k=7, scheme='naturalbreaks', cmap='Blues_r', ax=ax)\n",
    "\n",
    "ax.set_title('Territories for primary focus')\n",
    "plt.show()"
   ]
  },
  {
   "cell_type": "markdown",
   "metadata": {},
   "source": [
    "Making a list of territories for short/mid-period renting for growing Peas"
   ]
  },
  {
   "cell_type": "code",
   "execution_count": null,
   "metadata": {
    "scrolled": true
   },
   "outputs": [],
   "source": [
    "rm_int_values = [int(value) for value in rm_values]\n",
    "\n",
    "print(rm_int_values)"
   ]
  },
  {
   "cell_type": "code",
   "execution_count": null,
   "metadata": {
    "scrolled": true
   },
   "outputs": [],
   "source": [
    "mean_by_cluster = df_agg_peas.groupby('Clusters_7_ranked_std').mean()\n",
    "print(mean_by_cluster)"
   ]
  },
  {
   "cell_type": "markdown",
   "metadata": {},
   "source": [
    "# Error  (Supervised ML)"
   ]
  },
  {
   "cell_type": "code",
   "execution_count": null,
   "metadata": {},
   "outputs": [],
   "source": [
    "# MAE (Mean Absolute Error)\n",
    "# RMSE(Mean Squared Error)\n",
    "\n",
    "# Based on above errors, find the min error model.\n",
    "# Check error distribution\n",
    "# Look at the difference\n",
    "# Make a scatterplot"
   ]
  },
  {
   "cell_type": "markdown",
   "metadata": {},
   "source": [
    "# Deployment"
   ]
  },
  {
   "cell_type": "code",
   "execution_count": null,
   "metadata": {},
   "outputs": [],
   "source": [
    "# ML engineers deploys models with SD\n",
    "\n",
    "# AWS Sagemaker"
   ]
  },
  {
   "cell_type": "markdown",
   "metadata": {},
   "source": [
    "# Monitoring"
   ]
  },
  {
   "cell_type": "code",
   "execution_count": null,
   "metadata": {},
   "outputs": [],
   "source": [
    "# Look at error\n",
    "\n",
    "# If something wrong go back to step 1"
   ]
  }
 ],
 "metadata": {
  "kernelspec": {
   "display_name": "Python 3 (ipykernel)",
   "language": "python",
   "name": "python3"
  },
  "language_info": {
   "codemirror_mode": {
    "name": "ipython",
    "version": 3
   },
   "file_extension": ".py",
   "mimetype": "text/x-python",
   "name": "python",
   "nbconvert_exporter": "python",
   "pygments_lexer": "ipython3",
   "version": "3.11.5"
  }
 },
 "nbformat": 4,
 "nbformat_minor": 2
}
